{
  "nbformat": 4,
  "nbformat_minor": 0,
  "metadata": {
    "colab": {
      "name": "LSTM.ipynb",
      "provenance": [],
      "collapsed_sections": []
    },
    "kernelspec": {
      "name": "python3",
      "display_name": "Python 3"
    },
    "language_info": {
      "name": "python"
    }
  },
  "cells": [
    {
      "cell_type": "code",
      "metadata": {
        "colab": {
          "base_uri": "https://localhost:8080/",
          "height": 203
        },
        "id": "N9BrgG__XVbi",
        "outputId": "55b45cb9-be43-4ed8-90d4-2930126310f0"
      },
      "source": [
        "import pandas as pd\n",
        "data = pd.read_csv('SMSSpamCollection', sep = '\\t', names = ['label','message'])\n",
        "data.head()"
      ],
      "execution_count": 1,
      "outputs": [
        {
          "output_type": "execute_result",
          "data": {
            "text/html": [
              "<div>\n",
              "<style scoped>\n",
              "    .dataframe tbody tr th:only-of-type {\n",
              "        vertical-align: middle;\n",
              "    }\n",
              "\n",
              "    .dataframe tbody tr th {\n",
              "        vertical-align: top;\n",
              "    }\n",
              "\n",
              "    .dataframe thead th {\n",
              "        text-align: right;\n",
              "    }\n",
              "</style>\n",
              "<table border=\"1\" class=\"dataframe\">\n",
              "  <thead>\n",
              "    <tr style=\"text-align: right;\">\n",
              "      <th></th>\n",
              "      <th>label</th>\n",
              "      <th>message</th>\n",
              "    </tr>\n",
              "  </thead>\n",
              "  <tbody>\n",
              "    <tr>\n",
              "      <th>0</th>\n",
              "      <td>ham</td>\n",
              "      <td>Go until jurong point, crazy.. Available only ...</td>\n",
              "    </tr>\n",
              "    <tr>\n",
              "      <th>1</th>\n",
              "      <td>ham</td>\n",
              "      <td>Ok lar... Joking wif u oni...</td>\n",
              "    </tr>\n",
              "    <tr>\n",
              "      <th>2</th>\n",
              "      <td>spam</td>\n",
              "      <td>Free entry in 2 a wkly comp to win FA Cup fina...</td>\n",
              "    </tr>\n",
              "    <tr>\n",
              "      <th>3</th>\n",
              "      <td>ham</td>\n",
              "      <td>U dun say so early hor... U c already then say...</td>\n",
              "    </tr>\n",
              "    <tr>\n",
              "      <th>4</th>\n",
              "      <td>ham</td>\n",
              "      <td>Nah I don't think he goes to usf, he lives aro...</td>\n",
              "    </tr>\n",
              "  </tbody>\n",
              "</table>\n",
              "</div>"
            ],
            "text/plain": [
              "  label                                            message\n",
              "0   ham  Go until jurong point, crazy.. Available only ...\n",
              "1   ham                      Ok lar... Joking wif u oni...\n",
              "2  spam  Free entry in 2 a wkly comp to win FA Cup fina...\n",
              "3   ham  U dun say so early hor... U c already then say...\n",
              "4   ham  Nah I don't think he goes to usf, he lives aro..."
            ]
          },
          "metadata": {},
          "execution_count": 1
        }
      ]
    },
    {
      "cell_type": "code",
      "metadata": {
        "id": "LJPwpQbxXsNb"
      },
      "source": [
        "text = data['message']\n",
        "class_label = data['label']"
      ],
      "execution_count": 2,
      "outputs": []
    },
    {
      "cell_type": "code",
      "metadata": {
        "id": "eMuqIgZWXsy5"
      },
      "source": [
        "import numpy as np\n",
        "from keras.utils.np_utils import to_categorical\n",
        "classes_list = [\"ham\",\"spam\"]\n",
        "label_index = class_label.apply(classes_list.index)\n",
        "label1 = np.asarray(label_index)\n",
        "label = to_categorical(np.asarray(label1))"
      ],
      "execution_count": 3,
      "outputs": []
    },
    {
      "cell_type": "code",
      "metadata": {
        "id": "mG7gHhjbXvD-"
      },
      "source": [
        "from keras.preprocessing.text import Tokenizer\n",
        "tk=Tokenizer(filters='!\"#$%&()*+,-./:;<=>?@[\\\\]^_`{|}~\\t\\n',lower=True, split=\" \")\n",
        "tk.fit_on_texts(text)\n",
        "index=tk.word_index\n",
        "#print(index)\n",
        "x = tk.texts_to_sequences(text)\n",
        "#print (x)\n",
        "vocab_size = len(index)"
      ],
      "execution_count": 4,
      "outputs": []
    },
    {
      "cell_type": "code",
      "metadata": {
        "colab": {
          "base_uri": "https://localhost:8080/"
        },
        "id": "oQ_x1eBGXxkV",
        "outputId": "303e5777-e765-4efa-9aaf-7df9729c9769"
      },
      "source": [
        "from keras.preprocessing.sequence import pad_sequences\n",
        "embedding_vecor_length =32\n",
        "padded_docs = pad_sequences(x, maxlen=embedding_vecor_length, padding='post')\n",
        "print (padded_docs)"
      ],
      "execution_count": 5,
      "outputs": [
        {
          "output_type": "stream",
          "name": "stdout",
          "text": [
            "[[  49  471 4436 ...    0    0    0]\n",
            " [  46  336 1499 ...    0    0    0]\n",
            " [  47  489    8 ...  392 2998    0]\n",
            " ...\n",
            " [9007   60    8 ...    0    0    0]\n",
            " [   5  534  114 ...    0    0    0]\n",
            " [2687   61  465 ...    0    0    0]]\n"
          ]
        }
      ]
    },
    {
      "cell_type": "code",
      "metadata": {
        "id": "NTNm-u78X4us"
      },
      "source": [
        "from sklearn.model_selection import train_test_split\n",
        "X_train, X_test, y_train, y_test = train_test_split(padded_docs, label, test_size=0.30, random_state=42)"
      ],
      "execution_count": 6,
      "outputs": []
    },
    {
      "cell_type": "code",
      "metadata": {
        "colab": {
          "base_uri": "https://localhost:8080/"
        },
        "id": "z4n-DNxlX8Mj",
        "outputId": "a84826c6-2a82-4fc0-da30-6409c4018860"
      },
      "source": [
        "from keras.models import Sequential\n",
        "from keras.layers import Dense, Dropout, Activation, Flatten, Input\n",
        "from keras.layers import Embedding, LSTM, Bidirectional, SimpleRNN, GRU\n",
        "from keras.models import Sequential, Model\n",
        "\n",
        "lstm_input= Input(shape=(embedding_vecor_length,),  dtype='int32', name='lstm_input')\n",
        "x= Embedding(vocab_size+1, 100, input_length=embedding_vecor_length,trainable=True)(lstm_input)\n",
        "x1=LSTM(256,return_sequences=True)(x)\n",
        "lstm_out= LSTM(128,return_sequences=False)(x1)\n",
        "main_output = Dense(2,activation='softmax', name='main_output')(lstm_out)\n",
        "model = Model(inputs=lstm_input, outputs=main_output)\n",
        "model.compile(loss='binary_crossentropy', optimizer='Adam', metrics=['accuracy'])\n",
        "print(model.summary())"
      ],
      "execution_count": 7,
      "outputs": [
        {
          "output_type": "stream",
          "name": "stdout",
          "text": [
            "Model: \"model\"\n",
            "_________________________________________________________________\n",
            " Layer (type)                Output Shape              Param #   \n",
            "=================================================================\n",
            " lstm_input (InputLayer)     [(None, 32)]              0         \n",
            "                                                                 \n",
            " embedding (Embedding)       (None, 32, 100)           901000    \n",
            "                                                                 \n",
            " lstm (LSTM)                 (None, 32, 256)           365568    \n",
            "                                                                 \n",
            " lstm_1 (LSTM)               (None, 128)               197120    \n",
            "                                                                 \n",
            " main_output (Dense)         (None, 2)                 258       \n",
            "                                                                 \n",
            "=================================================================\n",
            "Total params: 1,463,946\n",
            "Trainable params: 1,463,946\n",
            "Non-trainable params: 0\n",
            "_________________________________________________________________\n",
            "None\n"
          ]
        }
      ]
    },
    {
      "cell_type": "code",
      "metadata": {
        "colab": {
          "base_uri": "https://localhost:8080/"
        },
        "id": "Vq0HiUuIYOY6",
        "outputId": "4c959242-5f77-4132-d75d-3b1afb28cd66"
      },
      "source": [
        "model.fit(X_train, y_train, validation_data = (X_test, y_test),\n",
        "              epochs=2,batch_size=10, verbose=2)"
      ],
      "execution_count": 8,
      "outputs": [
        {
          "output_type": "stream",
          "name": "stdout",
          "text": [
            "Epoch 1/2\n",
            "390/390 - 60s - loss: 0.1147 - accuracy: 0.9651 - val_loss: 0.0552 - val_accuracy: 0.9862 - 60s/epoch - 153ms/step\n",
            "Epoch 2/2\n",
            "390/390 - 57s - loss: 0.0910 - accuracy: 0.9564 - val_loss: 0.2340 - val_accuracy: 0.8756 - 57s/epoch - 146ms/step\n"
          ]
        },
        {
          "output_type": "execute_result",
          "data": {
            "text/plain": [
              "<keras.callbacks.History at 0x7f6166c7ef50>"
            ]
          },
          "metadata": {},
          "execution_count": 8
        }
      ]
    },
    {
      "cell_type": "code",
      "metadata": {
        "id": "0mmyzsMbYSLg"
      },
      "source": [
        "predictions_test = model.predict(X_test)\n",
        "predictions_test1 = np.zeros_like(predictions_test)\n",
        "predictions_test1[np.arange(len(predictions_test)), predictions_test.argmax(1)] = 1"
      ],
      "execution_count": 9,
      "outputs": []
    },
    {
      "cell_type": "code",
      "metadata": {
        "colab": {
          "base_uri": "https://localhost:8080/"
        },
        "id": "N7qLzBlIYaRR",
        "outputId": "44f9e51e-854b-4ceb-a64e-0213f9d872cd"
      },
      "source": [
        "from sklearn.metrics import classification_report\n",
        "from sklearn import metrics\n",
        "predictions_test1 = np.argmax(predictions_test1,axis=1)\n",
        "\n",
        "y_test = np.argmax(y_test,axis=1)\n",
        "\n",
        "print(metrics.confusion_matrix(y_test,predictions_test1))\n",
        "\n",
        "print(classification_report(y_test,predictions_test1))"
      ],
      "execution_count": 10,
      "outputs": [
        {
          "output_type": "stream",
          "name": "stdout",
          "text": [
            "[[1266  182]\n",
            " [  26  198]]\n",
            "              precision    recall  f1-score   support\n",
            "\n",
            "           0       0.98      0.87      0.92      1448\n",
            "           1       0.52      0.88      0.66       224\n",
            "\n",
            "    accuracy                           0.88      1672\n",
            "   macro avg       0.75      0.88      0.79      1672\n",
            "weighted avg       0.92      0.88      0.89      1672\n",
            "\n"
          ]
        }
      ]
    },
    {
      "cell_type": "code",
      "metadata": {
        "id": "qWwMdG8NYavH"
      },
      "source": [
        ""
      ],
      "execution_count": null,
      "outputs": []
    }
  ]
}