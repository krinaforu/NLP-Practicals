{
  "nbformat": 4,
  "nbformat_minor": 0,
  "metadata": {
    "colab": {
      "name": "text classification using Naive Bayes  SVM.ipynb",
      "provenance": [],
      "collapsed_sections": []
    },
    "kernelspec": {
      "name": "python3",
      "display_name": "Python 3"
    },
    "language_info": {
      "name": "python"
    }
  },
  "cells": [
    {
      "cell_type": "code",
      "metadata": {
        "id": "slLDLdMuCS3J"
      },
      "source": [
        "import pandas as pd \n",
        "data =  pd.read_csv('SMSSpamCollection', sep = '\\t', names = ['label', 'message'])"
      ],
      "execution_count": 1,
      "outputs": []
    },
    {
      "cell_type": "code",
      "metadata": {
        "id": "Fmq60JdbCkCs"
      },
      "source": [
        "text = data['message']\n",
        "label = data['label']"
      ],
      "execution_count": 2,
      "outputs": []
    },
    {
      "cell_type": "code",
      "metadata": {
        "id": "G3XyXciWCmsp"
      },
      "source": [
        "data['word_count'] = data['message'].apply(lambda x: len(str(x).split(\" \")))"
      ],
      "execution_count": 3,
      "outputs": []
    },
    {
      "cell_type": "code",
      "metadata": {
        "colab": {
          "base_uri": "https://localhost:8080/",
          "height": 203
        },
        "id": "3ZL4P0OuCtz5",
        "outputId": "9c011f60-a007-477d-b35c-a81d9180ed9e"
      },
      "source": [
        "data['char_count'] = data['message'].str.len() ## this also includes spaces\n",
        "data[['message','char_count']].head()"
      ],
      "execution_count": 4,
      "outputs": [
        {
          "output_type": "execute_result",
          "data": {
            "text/html": [
              "<div>\n",
              "<style scoped>\n",
              "    .dataframe tbody tr th:only-of-type {\n",
              "        vertical-align: middle;\n",
              "    }\n",
              "\n",
              "    .dataframe tbody tr th {\n",
              "        vertical-align: top;\n",
              "    }\n",
              "\n",
              "    .dataframe thead th {\n",
              "        text-align: right;\n",
              "    }\n",
              "</style>\n",
              "<table border=\"1\" class=\"dataframe\">\n",
              "  <thead>\n",
              "    <tr style=\"text-align: right;\">\n",
              "      <th></th>\n",
              "      <th>message</th>\n",
              "      <th>char_count</th>\n",
              "    </tr>\n",
              "  </thead>\n",
              "  <tbody>\n",
              "    <tr>\n",
              "      <th>0</th>\n",
              "      <td>Go until jurong point, crazy.. Available only ...</td>\n",
              "      <td>111</td>\n",
              "    </tr>\n",
              "    <tr>\n",
              "      <th>1</th>\n",
              "      <td>Ok lar... Joking wif u oni...</td>\n",
              "      <td>29</td>\n",
              "    </tr>\n",
              "    <tr>\n",
              "      <th>2</th>\n",
              "      <td>Free entry in 2 a wkly comp to win FA Cup fina...</td>\n",
              "      <td>155</td>\n",
              "    </tr>\n",
              "    <tr>\n",
              "      <th>3</th>\n",
              "      <td>U dun say so early hor... U c already then say...</td>\n",
              "      <td>49</td>\n",
              "    </tr>\n",
              "    <tr>\n",
              "      <th>4</th>\n",
              "      <td>Nah I don't think he goes to usf, he lives aro...</td>\n",
              "      <td>61</td>\n",
              "    </tr>\n",
              "  </tbody>\n",
              "</table>\n",
              "</div>"
            ],
            "text/plain": [
              "                                             message  char_count\n",
              "0  Go until jurong point, crazy.. Available only ...         111\n",
              "1                      Ok lar... Joking wif u oni...          29\n",
              "2  Free entry in 2 a wkly comp to win FA Cup fina...         155\n",
              "3  U dun say so early hor... U c already then say...          49\n",
              "4  Nah I don't think he goes to usf, he lives aro...          61"
            ]
          },
          "metadata": {},
          "execution_count": 4
        }
      ]
    },
    {
      "cell_type": "code",
      "metadata": {
        "id": "IRjSy_6gCxPk"
      },
      "source": [
        "def avg_word(sentence):\n",
        "  words = sentence.split()\n",
        "  #print(words)\n",
        "  return (sum(len(word) for word in words)/len(words))\n",
        "\n",
        "data['avg_word'] = data['message'].apply(lambda x: avg_word(x))"
      ],
      "execution_count": 5,
      "outputs": []
    },
    {
      "cell_type": "code",
      "metadata": {
        "colab": {
          "base_uri": "https://localhost:8080/"
        },
        "id": "UOAVbfY6C0Kt",
        "outputId": "c68f868d-a4c5-4046-f852-32ff60e88cdf"
      },
      "source": [
        "import nltk\n",
        "nltk.download('stopwords')\n",
        "from nltk.corpus import stopwords\n",
        "stop = stopwords.words('english')\n",
        "\n",
        "data['stopwords'] = data['message'].apply(lambda x: len([x for x in x.split() if x in stop]))"
      ],
      "execution_count": 6,
      "outputs": [
        {
          "output_type": "stream",
          "name": "stdout",
          "text": [
            "[nltk_data] Downloading package stopwords to /root/nltk_data...\n",
            "[nltk_data]   Unzipping corpora/stopwords.zip.\n"
          ]
        }
      ]
    },
    {
      "cell_type": "code",
      "metadata": {
        "id": "NxbIeEOTC4eE"
      },
      "source": [
        "data['hastags'] = data['message'].apply(lambda x: len([x for x in x.split() if x.startswith('#')]))"
      ],
      "execution_count": 7,
      "outputs": []
    },
    {
      "cell_type": "code",
      "metadata": {
        "id": "tXFKU48IC87S"
      },
      "source": [
        "data['numerics'] = data['message'].apply(lambda x: len([x for x in x.split() if x.isdigit()]))"
      ],
      "execution_count": 8,
      "outputs": []
    },
    {
      "cell_type": "code",
      "metadata": {
        "id": "1-Zy8eusC_r8"
      },
      "source": [
        "data['upper'] = data['message'].apply(lambda x: len([x for x in x.split() if x.isupper()]))"
      ],
      "execution_count": 9,
      "outputs": []
    },
    {
      "cell_type": "code",
      "metadata": {
        "colab": {
          "base_uri": "https://localhost:8080/"
        },
        "id": "aVS08kJ0DCCi",
        "outputId": "cda36d9e-27c4-4d8d-eef2-687f397972c7"
      },
      "source": [
        "pos_family = {\n",
        "    'noun' : ['NN','NNS','NNP','NNPS'],\n",
        "    'pron' : ['PRP','PRP$','WP','WP$'],\n",
        "    'verb' : ['VB','VBD','VBG','VBN','VBP','VBZ'],\n",
        "    'adj' :  ['JJ','JJR','JJS'],\n",
        "    'adv' : ['RB','RBR','RBS','WRB']\n",
        "}\n",
        "\n",
        "# function to check and get the part of speech tag count of a words in a given sentence\n",
        "from textblob import TextBlob, Word, Blobber\n",
        "import nltk\n",
        "nltk.download('punkt')\n",
        "nltk.download('averaged_perceptron_tagger')\n",
        "def check_pos_tag(x, flag):\n",
        "    cnt = 0\n",
        "    try:\n",
        "        wiki = TextBlob(x)\n",
        "        for tup in wiki.tags:\n",
        "            ppo = list(tup)[1]\n",
        "            if ppo in pos_family[flag]:\n",
        "                cnt += 1\n",
        "    except:\n",
        "        pass\n",
        "    return cnt\n",
        "\n",
        "data['noun_count'] = data['message'].apply(lambda x: check_pos_tag(x, 'noun'))\n",
        "data['verb_count'] = data['message'].apply(lambda x: check_pos_tag(x, 'verb'))\n",
        "data['adj_count'] = data['message'].apply(lambda x: check_pos_tag(x, 'adj'))\n",
        "data['adv_count'] = data['message'].apply(lambda x: check_pos_tag(x, 'adv'))\n",
        "data['pron_count'] = data['message'].apply(lambda x: check_pos_tag(x, 'pron'))"
      ],
      "execution_count": 10,
      "outputs": [
        {
          "output_type": "stream",
          "name": "stdout",
          "text": [
            "[nltk_data] Downloading package punkt to /root/nltk_data...\n",
            "[nltk_data]   Unzipping tokenizers/punkt.zip.\n",
            "[nltk_data] Downloading package averaged_perceptron_tagger to\n",
            "[nltk_data]     /root/nltk_data...\n",
            "[nltk_data]   Unzipping taggers/averaged_perceptron_tagger.zip.\n"
          ]
        }
      ]
    },
    {
      "cell_type": "code",
      "metadata": {
        "id": "kzLPQRK5DGIK"
      },
      "source": [
        "features = data[['word_count','char_count','avg_word','stopwords','hastags','numerics','upper','noun_count','verb_count','adj_count', 'adv_count', 'pron_count']]"
      ],
      "execution_count": 11,
      "outputs": []
    },
    {
      "cell_type": "code",
      "metadata": {
        "colab": {
          "base_uri": "https://localhost:8080/"
        },
        "id": "KVp4-_QsDafh",
        "outputId": "3055a985-c84f-413c-ac37-9a0dcaa56e2b"
      },
      "source": [
        "import numpy as np\n",
        "classes_list = [\"ham\",\"spam\"]\n",
        "label_index = data['label'].apply(classes_list.index)\n",
        "label = np.asarray(label_index)\n",
        "label"
      ],
      "execution_count": 13,
      "outputs": [
        {
          "output_type": "execute_result",
          "data": {
            "text/plain": [
              "array([0, 0, 1, ..., 0, 0, 0])"
            ]
          },
          "metadata": {},
          "execution_count": 13
        }
      ]
    },
    {
      "cell_type": "code",
      "metadata": {
        "id": "V65dxlnJDdg9"
      },
      "source": [
        "import numpy as np\n",
        "features_array = np.asarray(features)"
      ],
      "execution_count": 14,
      "outputs": []
    },
    {
      "cell_type": "code",
      "metadata": {
        "id": "pLdB5iLqEl43"
      },
      "source": [
        "import numpy as np\n",
        "from sklearn.model_selection import train_test_split\n",
        "x_train, x_test, y_train, y_test = train_test_split(features_array, label, test_size=0.33, random_state=90)"
      ],
      "execution_count": 15,
      "outputs": []
    },
    {
      "cell_type": "markdown",
      "metadata": {
        "id": "9lpbjjtJEraa"
      },
      "source": [
        "# svm"
      ]
    },
    {
      "cell_type": "code",
      "metadata": {
        "colab": {
          "base_uri": "https://localhost:8080/"
        },
        "id": "y-4nMVxDEo0c",
        "outputId": "8ea504f3-609d-453c-e0f4-54cad2e4b600"
      },
      "source": [
        "from sklearn.metrics import accuracy_score\n",
        "from sklearn import metrics\n",
        "\n",
        "from sklearn.svm import SVC\n",
        "model_SVM = SVC()\n",
        "model_SVM.fit(x_train, y_train)\n",
        "y_pred_SVM = model_SVM.predict(x_test)\n",
        "print(\"SVM\")\n",
        "print(\"Accuracy score =\", accuracy_score(y_test, y_pred_SVM))\n",
        "print(metrics.classification_report(y_test, y_pred_SVM))"
      ],
      "execution_count": 16,
      "outputs": [
        {
          "output_type": "stream",
          "name": "stdout",
          "text": [
            "SVM\n",
            "Accuracy score = 0.9336595976073954\n",
            "              precision    recall  f1-score   support\n",
            "\n",
            "           0       0.95      0.97      0.96      1600\n",
            "           1       0.78      0.68      0.73       239\n",
            "\n",
            "    accuracy                           0.93      1839\n",
            "   macro avg       0.87      0.83      0.84      1839\n",
            "weighted avg       0.93      0.93      0.93      1839\n",
            "\n"
          ]
        }
      ]
    },
    {
      "cell_type": "markdown",
      "metadata": {
        "id": "5m-16ewuExwW"
      },
      "source": [
        "#Naive Bayes"
      ]
    },
    {
      "cell_type": "code",
      "metadata": {
        "colab": {
          "base_uri": "https://localhost:8080/"
        },
        "id": "8zhYBlLrEwII",
        "outputId": "995c3a2d-36ec-42b1-e59f-8f35cf372529"
      },
      "source": [
        "from sklearn.naive_bayes import GaussianNB\n",
        "naive = GaussianNB()\n",
        "naive.fit(x_train,y_train)\n",
        "y_pred_naive = naive.predict(x_test)\n",
        "print(\"Naive Bayes\")\n",
        "print(\"Accuracy score =\", accuracy_score(y_test, y_pred_naive))\n",
        "print(metrics.classification_report(y_test, y_pred_naive ))"
      ],
      "execution_count": 17,
      "outputs": [
        {
          "output_type": "stream",
          "name": "stdout",
          "text": [
            "Naive Bayes\n",
            "Accuracy score = 0.9265905383360522\n",
            "              precision    recall  f1-score   support\n",
            "\n",
            "           0       0.97      0.95      0.96      1600\n",
            "           1       0.69      0.79      0.74       239\n",
            "\n",
            "    accuracy                           0.93      1839\n",
            "   macro avg       0.83      0.87      0.85      1839\n",
            "weighted avg       0.93      0.93      0.93      1839\n",
            "\n"
          ]
        }
      ]
    },
    {
      "cell_type": "code",
      "metadata": {
        "id": "sxwLwJTPE9Vz"
      },
      "source": [
        ""
      ],
      "execution_count": null,
      "outputs": []
    }
  ]
}