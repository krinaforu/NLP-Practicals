{
  "nbformat": 4,
  "nbformat_minor": 0,
  "metadata": {
    "colab": {
      "name": "features_extraction.ipynb",
      "provenance": [],
      "collapsed_sections": []
    },
    "kernelspec": {
      "name": "python3",
      "display_name": "Python 3"
    },
    "language_info": {
      "name": "python"
    }
  },
  "cells": [
    {
      "cell_type": "code",
      "metadata": {
        "id": "h7q2VGIO-TjA",
        "colab": {
          "base_uri": "https://localhost:8080/"
        },
        "outputId": "ae6bba8c-6487-42c1-9f8a-87a72c76a066"
      },
      "source": [
        "\n",
        "from sklearn.feature_extraction.text import CountVectorizer\n",
        "\n",
        "# Sample sentences.\n",
        "sentences = [\n",
        "    \"This is a sample sentence\",\n",
        "    \"I am interested in politics\",\n",
        "    \"You are a very good software engineer, engineer.\",\n",
        "]\n",
        "\n",
        "# Create CountVectorizer, which create bag-of-words model.\n",
        "# stop_words : Specify language to remove stopwords. \n",
        "vectorizer = CountVectorizer(stop_words='english')\n",
        "\n",
        "# Learn vocabulary in sentences. \n",
        "vectorizer.fit(sentences)\n",
        "\n",
        "# Get dictionary. \n",
        "vectorizer.get_feature_names()"
      ],
      "execution_count": 3,
      "outputs": [
        {
          "output_type": "stream",
          "name": "stderr",
          "text": [
            "/usr/local/lib/python3.7/dist-packages/sklearn/utils/deprecation.py:87: FutureWarning: Function get_feature_names is deprecated; get_feature_names is deprecated in 1.0 and will be removed in 1.2. Please use get_feature_names_out instead.\n",
            "  warnings.warn(msg, category=FutureWarning)\n"
          ]
        },
        {
          "output_type": "execute_result",
          "data": {
            "text/plain": [
              "['engineer',\n",
              " 'good',\n",
              " 'interested',\n",
              " 'politics',\n",
              " 'sample',\n",
              " 'sentence',\n",
              " 'software']"
            ]
          },
          "metadata": {},
          "execution_count": 3
        }
      ]
    },
    {
      "cell_type": "code",
      "metadata": {
        "colab": {
          "base_uri": "https://localhost:8080/"
        },
        "id": "Z8HNDZ3lA0zP",
        "outputId": "619045c6-c1d1-40f3-d932-207304c6e7f1"
      },
      "source": [
        "vector = vectorizer.transform(sentences)\n",
        "vector_spaces = vector.toarray()\n",
        "\n",
        "vector_spaces"
      ],
      "execution_count": 4,
      "outputs": [
        {
          "output_type": "execute_result",
          "data": {
            "text/plain": [
              "array([[0, 0, 0, 0, 1, 1, 0],\n",
              "       [0, 0, 1, 1, 0, 0, 0],\n",
              "       [2, 1, 0, 0, 0, 0, 1]])"
            ]
          },
          "metadata": {},
          "execution_count": 4
        }
      ]
    },
    {
      "cell_type": "code",
      "metadata": {
        "colab": {
          "base_uri": "https://localhost:8080/"
        },
        "id": "FQwbYyYoA7Ia",
        "outputId": "9a67eb42-546e-4818-9fb3-f00c2cec09f7"
      },
      "source": [
        "for i, v in zip(sentences, vector_spaces):\n",
        "    print(i)\n",
        "    print(v)"
      ],
      "execution_count": 5,
      "outputs": [
        {
          "output_type": "stream",
          "name": "stdout",
          "text": [
            "This is a sample sentence\n",
            "[0 0 0 0 1 1 0]\n",
            "I am interested in politics\n",
            "[0 0 1 1 0 0 0]\n",
            "You are a very good software engineer, engineer.\n",
            "[2 1 0 0 0 0 1]\n"
          ]
        }
      ]
    },
    {
      "cell_type": "code",
      "metadata": {
        "id": "Pwx3ZgHMA-GD"
      },
      "source": [
        ""
      ],
      "execution_count": null,
      "outputs": []
    }
  ]
}